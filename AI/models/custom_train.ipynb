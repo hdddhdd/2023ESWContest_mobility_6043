{
  "cells": [
    {
      "cell_type": "code",
      "execution_count": null,
      "metadata": {
        "colab": {
          "base_uri": "https://localhost:8080/"
        },
        "id": "PC2AweJybWfx",
        "outputId": "3e3f3c8d-c848-42d0-e5f6-22aa00f83974"
      },
      "outputs": [],
      "source": [
        "%cd /content\n",
        "!git clone https://github.com/ultralytics/yolov5.git"
      ]
    },
    {
      "cell_type": "code",
      "execution_count": null,
      "metadata": {
        "colab": {
          "base_uri": "https://localhost:8080/"
        },
        "id": "h_NqXCXkbZqw",
        "outputId": "2ea3dc90-6da9-4da5-9f64-739a9a2e30c8"
      },
      "outputs": [],
      "source": [
        "%cd /content/yolov5/\n",
        "!pip install -r requirements.txt"
      ]
    },
    {
      "cell_type": "code",
      "execution_count": null,
      "metadata": {
        "colab": {
          "base_uri": "https://localhost:8080/",
          "height": 1000
        },
        "id": "ofHjh9eobi42",
        "outputId": "cfb68ceb-3ea6-4b24-94e5-3ef72fe946bb"
      },
      "outputs": [],
      "source": [
        "!pip install roboflow\n",
        "\n",
        "from roboflow import Roboflow\n",
        "rf = Roboflow(api_key=\"***********\")\n",
        "project = rf.workspace(\"project-*****\").project(\"************\")\n",
        "dataset = project.version(12).download(\"yolov5\")"
      ]
    },
    {
      "cell_type": "code",
      "execution_count": null,
      "metadata": {
        "colab": {
          "base_uri": "https://localhost:8080/"
        },
        "id": "q0lP7iGvbvQl",
        "outputId": "58c833e6-3e97-4f05-a728-62061b448ff4"
      },
      "outputs": [],
      "source": [
        "# data.yaml 파일 확인\n",
        "%cat /content/yolov5/<자신이 설정한 폴더 이름>/data.yaml"
      ]
    },
    {
      "cell_type": "code",
      "execution_count": null,
      "metadata": {
        "colab": {
          "base_uri": "https://localhost:8080/"
        },
        "id": "wpdDXMM6dWEa",
        "outputId": "3e9de538-2076-45a1-8cf4-941f2913f1ab"
      },
      "outputs": [],
      "source": [
        "%cd /content/yolov5/\n",
        "\n",
        "!python train.py --img 416 --batch 16 --epochs 100 --data /content/yolov5/<자신이 설정한 폴더 이름>/data.yaml --cfg ./models/yolov5s.yaml --weights yolov5s.pt --name results"
      ]
    },
    {
      "cell_type": "code",
      "execution_count": null,
      "metadata": {
        "colab": {
          "base_uri": "https://localhost:8080/"
        },
        "id": "rNe1I14RjDUD",
        "outputId": "c03d5939-0deb-48c4-9df7-f5de81b4c190"
      },
      "outputs": [],
      "source": [
        "!python detect.py --weights /content/yolov5/runs/train/results/weights/best.pt --img 416 --conf 0.5 --source /content/yolov5/<테스트이미지 파일명>"
      ]
    },
    {
      "cell_type": "code",
      "execution_count": null,
      "metadata": {
        "colab": {
          "base_uri": "https://localhost:8080/",
          "height": 34
        },
        "id": "PxmWKDawm37v",
        "outputId": "74d0ce78-96c7-4c34-bcf6-cde898b6845b"
      },
      "outputs": [],
      "source": [
        "from google.colab import files\n",
        "\n",
        "# best.pt 파일 경로 (학습 결과)\n",
        "file_path = '/content/yolov5/runs/train/results/weights/best.pt' \n",
        "\n",
        "# 파일 다운로드\n",
        "files.download(file_path)"
      ]
    }
  ],
  "metadata": {
    "accelerator": "GPU",
    "colab": {
      "gpuType": "T4",
      "machine_shape": "hm",
      "provenance": []
    },
    "kernelspec": {
      "display_name": "Python 3.9.6 64-bit",
      "language": "python",
      "name": "python3"
    },
    "language_info": {
      "name": "python",
      "version": "3.9.6"
    },
    "vscode": {
      "interpreter": {
        "hash": "31f2aee4e71d21fbe5cf8b01ff0e069b9275f58929596ceb00d14d90e3e16cd6"
      }
    }
  },
  "nbformat": 4,
  "nbformat_minor": 0
}
